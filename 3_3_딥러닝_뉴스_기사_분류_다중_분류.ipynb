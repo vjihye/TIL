{
  "nbformat": 4,
  "nbformat_minor": 0,
  "metadata": {
    "colab": {
      "name": "3.3_딥러닝_뉴스 기사 분류 - 다중 분류.ipynb",
      "provenance": [],
      "authorship_tag": "ABX9TyMR6IjSSmofaXCPrqRjzYYQ",
      "include_colab_link": true
    },
    "kernelspec": {
      "name": "python3",
      "display_name": "Python 3"
    },
    "language_info": {
      "name": "python"
    }
  },
  "cells": [
    {
      "cell_type": "markdown",
      "metadata": {
        "id": "view-in-github",
        "colab_type": "text"
      },
      "source": [
        "<a href=\"https://colab.research.google.com/github/vjihye/TIL/blob/master/3_3_%EB%94%A5%EB%9F%AC%EB%8B%9D_%EB%89%B4%EC%8A%A4_%EA%B8%B0%EC%82%AC_%EB%B6%84%EB%A5%98_%EB%8B%A4%EC%A4%91_%EB%B6%84%EB%A5%98.ipynb\" target=\"_parent\"><img src=\"https://colab.research.google.com/assets/colab-badge.svg\" alt=\"Open In Colab\"/></a>"
      ]
    },
    {
      "cell_type": "code",
      "execution_count": 1,
      "metadata": {
        "id": "jFyehT_nIGC-"
      },
      "outputs": [],
      "source": [
        "import tensorflow as tf\n",
        "from tensorflow import keras\n",
        "from keras.datasets import imdb\n",
        "\n",
        "import numpy as np\n",
        "import matplotlib.pyplot as plt"
      ]
    },
    {
      "cell_type": "code",
      "source": [
        "from keras import models\n",
        "from keras import layers"
      ],
      "metadata": {
        "id": "bducPtHNJk5r"
      },
      "execution_count": 2,
      "outputs": []
    },
    {
      "cell_type": "code",
      "source": [
        "from keras.datasets import reuters\n"
      ],
      "metadata": {
        "id": "V5UYFH9-JoyQ"
      },
      "execution_count": 3,
      "outputs": []
    },
    {
      "cell_type": "code",
      "source": [
        "(train_data, train_labels), (test_data, test_labels) = reuters.load_data(num_words=10000)"
      ],
      "metadata": {
        "colab": {
          "base_uri": "https://localhost:8080/"
        },
        "id": "CpGPR7SFJsB5",
        "outputId": "c2e0cec0-f37f-49af-af6f-7649dfb1d1ec"
      },
      "execution_count": null,
      "outputs": [
        {
          "output_type": "stream",
          "name": "stdout",
          "text": [
            "Downloading data from https://storage.googleapis.com/tensorflow/tf-keras-datasets/reuters.npz\n",
            "2113536/2110848 [==============================] - 0s 0us/step\n",
            "2121728/2110848 [==============================] - 0s 0us/step\n"
          ]
        }
      ]
    },
    {
      "cell_type": "code",
      "source": [
        "print(train_data[0])\n",
        "print(train_labels[0])"
      ],
      "metadata": {
        "colab": {
          "base_uri": "https://localhost:8080/"
        },
        "id": "etzykPq4JuN_",
        "outputId": "6f25e289-1f01-4484-8c9c-0ba8d8eabea4"
      },
      "execution_count": null,
      "outputs": [
        {
          "output_type": "stream",
          "name": "stdout",
          "text": [
            "[1, 2, 2, 8, 43, 10, 447, 5, 25, 207, 270, 5, 3095, 111, 16, 369, 186, 90, 67, 7, 89, 5, 19, 102, 6, 19, 124, 15, 90, 67, 84, 22, 482, 26, 7, 48, 4, 49, 8, 864, 39, 209, 154, 6, 151, 6, 83, 11, 15, 22, 155, 11, 15, 7, 48, 9, 4579, 1005, 504, 6, 258, 6, 272, 11, 15, 22, 134, 44, 11, 15, 16, 8, 197, 1245, 90, 67, 52, 29, 209, 30, 32, 132, 6, 109, 15, 17, 12]\n",
            "3\n"
          ]
        }
      ]
    },
    {
      "cell_type": "code",
      "source": [
        "def vectorize_sequences(seqs, dim=10000):\n",
        "  results = np.zeros((len(seqs), dim))\n",
        "  for i, seq in enumerate(seqs):\n",
        "    results[i, seq] = 1.\n",
        "  return results\n",
        "\n",
        "x_train = vectorize_sequences(train_data)\n",
        "x_test = vectorize_sequences(test_data)"
      ],
      "metadata": {
        "id": "w7rvwOHqJzHI"
      },
      "execution_count": null,
      "outputs": []
    },
    {
      "cell_type": "code",
      "source": [
        "def to_one_hot(labels, dim=46):\n",
        "  results = np.zeros((len(labels), dim))\n",
        "  for i, l in enumerate(labels):\n",
        "    results[i, l] = 1.\n",
        "  return results\n",
        "\n",
        "one_hot_train_labels = to_one_hot(train_labels)\n",
        "one_hot_test_labels = to_one_hot(test_labels)"
      ],
      "metadata": {
        "id": "5MeqvF09J0j3"
      },
      "execution_count": null,
      "outputs": []
    },
    {
      "cell_type": "code",
      "source": [
        "from keras.utils.np_utils import to_categorical\n",
        "\n",
        "one_hot_train_labels = to_categorical(train_labels)\n",
        "one_hot_test_labels = to_categorical(test_labels)"
      ],
      "metadata": {
        "id": "rTqizFV9J4hK"
      },
      "execution_count": null,
      "outputs": []
    },
    {
      "cell_type": "code",
      "source": [
        "model = models.Sequential()\n",
        "model.add(layers.Dense(64, activation='relu', input_shape = (10000,)))\n",
        "model.add(layers.Dense(64,activation = 'relu'))\n",
        "model.add(layers.Dense(46, activation = 'softmax'))"
      ],
      "metadata": {
        "id": "yPNqre3mJ9IF"
      },
      "execution_count": null,
      "outputs": []
    },
    {
      "cell_type": "code",
      "source": [
        "model.compile(optimizer='rmsprop', loss = 'categorical_crossentropy', metrics=['accuracy'])"
      ],
      "metadata": {
        "id": "5RScsp4LJ_qV"
      },
      "execution_count": null,
      "outputs": []
    },
    {
      "cell_type": "code",
      "source": [
        "x_val = x_train[:1000]\n",
        "partial_x_train = x_train[1000:]\n",
        "y_val = one_hot_train_labels[:1000]\n",
        "partial_y_train = one_hot_train_labels[1000:]"
      ],
      "metadata": {
        "id": "H5-tNTVpKB7w"
      },
      "execution_count": null,
      "outputs": []
    },
    {
      "cell_type": "code",
      "source": [
        "history = model.fit(partial_x_train, partial_y_train, epochs=20, batch_size = 512, validation_data = (x_val, y_val))"
      ],
      "metadata": {
        "colab": {
          "base_uri": "https://localhost:8080/"
        },
        "id": "YUURtPBjKE0K",
        "outputId": "a30bb1f1-359f-47ac-acda-1711d724db32"
      },
      "execution_count": null,
      "outputs": [
        {
          "output_type": "stream",
          "name": "stdout",
          "text": [
            "Epoch 1/20\n",
            "16/16 [==============================] - 2s 54ms/step - loss: 2.5982 - accuracy: 0.5585 - val_loss: 1.7141 - val_accuracy: 0.6620\n",
            "Epoch 2/20\n",
            "16/16 [==============================] - 1s 32ms/step - loss: 1.3936 - accuracy: 0.7066 - val_loss: 1.3103 - val_accuracy: 0.7240\n",
            "Epoch 3/20\n",
            "16/16 [==============================] - 1s 32ms/step - loss: 1.0316 - accuracy: 0.7830 - val_loss: 1.1607 - val_accuracy: 0.7470\n",
            "Epoch 4/20\n",
            "16/16 [==============================] - 1s 33ms/step - loss: 0.8149 - accuracy: 0.8315 - val_loss: 1.0475 - val_accuracy: 0.7880\n",
            "Epoch 5/20\n",
            "16/16 [==============================] - 1s 32ms/step - loss: 0.6519 - accuracy: 0.8683 - val_loss: 0.9945 - val_accuracy: 0.7870\n",
            "Epoch 6/20\n",
            "16/16 [==============================] - 1s 32ms/step - loss: 0.5198 - accuracy: 0.8926 - val_loss: 0.9628 - val_accuracy: 0.8070\n",
            "Epoch 7/20\n",
            "16/16 [==============================] - 1s 32ms/step - loss: 0.4224 - accuracy: 0.9123 - val_loss: 0.9221 - val_accuracy: 0.8120\n",
            "Epoch 8/20\n",
            "16/16 [==============================] - 1s 32ms/step - loss: 0.3481 - accuracy: 0.9236 - val_loss: 0.9087 - val_accuracy: 0.8200\n",
            "Epoch 9/20\n",
            "16/16 [==============================] - 1s 31ms/step - loss: 0.2905 - accuracy: 0.9366 - val_loss: 0.9249 - val_accuracy: 0.8180\n",
            "Epoch 10/20\n",
            "16/16 [==============================] - 1s 32ms/step - loss: 0.2432 - accuracy: 0.9451 - val_loss: 0.9280 - val_accuracy: 0.8140\n",
            "Epoch 11/20\n",
            "16/16 [==============================] - 1s 32ms/step - loss: 0.2171 - accuracy: 0.9481 - val_loss: 0.9309 - val_accuracy: 0.8180\n",
            "Epoch 12/20\n",
            "16/16 [==============================] - 0s 31ms/step - loss: 0.1867 - accuracy: 0.9515 - val_loss: 0.9627 - val_accuracy: 0.8110\n",
            "Epoch 13/20\n",
            "16/16 [==============================] - 1s 31ms/step - loss: 0.1657 - accuracy: 0.9535 - val_loss: 0.9680 - val_accuracy: 0.8180\n",
            "Epoch 14/20\n",
            "16/16 [==============================] - 1s 33ms/step - loss: 0.1548 - accuracy: 0.9548 - val_loss: 1.0043 - val_accuracy: 0.8180\n",
            "Epoch 15/20\n",
            "16/16 [==============================] - 1s 32ms/step - loss: 0.1452 - accuracy: 0.9548 - val_loss: 1.0272 - val_accuracy: 0.8080\n",
            "Epoch 16/20\n",
            "16/16 [==============================] - 1s 33ms/step - loss: 0.1369 - accuracy: 0.9554 - val_loss: 1.0616 - val_accuracy: 0.8080\n",
            "Epoch 17/20\n",
            "16/16 [==============================] - 0s 31ms/step - loss: 0.1269 - accuracy: 0.9559 - val_loss: 1.0482 - val_accuracy: 0.8070\n",
            "Epoch 18/20\n",
            "16/16 [==============================] - 1s 32ms/step - loss: 0.1225 - accuracy: 0.9565 - val_loss: 1.0657 - val_accuracy: 0.8070\n",
            "Epoch 19/20\n",
            "16/16 [==============================] - 1s 32ms/step - loss: 0.1183 - accuracy: 0.9570 - val_loss: 1.0841 - val_accuracy: 0.8120\n",
            "Epoch 20/20\n",
            "16/16 [==============================] - 1s 32ms/step - loss: 0.1140 - accuracy: 0.9587 - val_loss: 1.1413 - val_accuracy: 0.7930\n"
          ]
        }
      ]
    },
    {
      "cell_type": "code",
      "source": [
        "import matplotlib.pyplot as plt"
      ],
      "metadata": {
        "id": "IMgTq8_SLz53"
      },
      "execution_count": null,
      "outputs": []
    },
    {
      "cell_type": "code",
      "source": [
        "history_dict = history.history\n",
        "loss = history_dict['loss']\n",
        "val_loss = history_dict['val_loss']\n",
        "\n",
        "epochs = range(1, len(loss) + 1)\n",
        "\n",
        "plt.figure(figsize = (8, 5))\n",
        "plt.plot(epochs, loss, 'bo', label='Training loss')\n",
        "plt.plot(epochs, val_loss, 'b', label='validation loss')\n",
        "plt.title('Training and validation loss')\n",
        "plt.xlabel('Epochs')\n",
        "plt.ylabel('loss')\n",
        "plt.legend()\n",
        "plt.show()"
      ],
      "metadata": {
        "colab": {
          "base_uri": "https://localhost:8080/",
          "height": 350
        },
        "id": "nxqIP3Z0MG2S",
        "outputId": "9a9b5328-b3c6-4869-d57c-b34d53238c0f"
      },
      "execution_count": null,
      "outputs": [
        {
          "output_type": "display_data",
          "data": {
            "image/png": "[encoded data removed]",
            "text/plain": [
              "<Figure size 576x360 with 1 Axes>"
            ]
          },
          "metadata": {
            "needs_background": "light"
          }
        }
      ]
    },
    {
      "cell_type": "code",
      "source": [
        "plt.clf()\n",
        "acc = history_dict['accuracy']\n",
        "val_acc = history_dict['val_accuracy']\n",
        "\n",
        "plt.figure(figsize = (8, 5))\n",
        "plt.plot(epochs, acc, 'bo', label='Training acc')\n",
        "plt.plot(epochs, val_acc, 'b', label='validation acc')\n",
        "plt.title('Training and validation accuracy')\n",
        "plt.xlabel('Epochs')\n",
        "plt.ylabel('Accuracy')\n",
        "plt.legend()\n",
        "plt.show()"
      ],
      "metadata": {
        "colab": {
          "base_uri": "https://localhost:8080/",
          "height": 368
        },
        "id": "iOldQrp9MPAL",
        "outputId": "5abd3b46-6ba6-459e-cb5c-3f628acfd738"
      },
      "execution_count": null,
      "outputs": [
        {
          "output_type": "display_data",
          "data": {
            "text/plain": [
              "<Figure size 432x288 with 0 Axes>"
            ]
          },
          "metadata": {}
        },
        {
          "output_type": "display_data",
          "data": {
            "image/png": "[encoded data removed]",
            "text/plain": [
              "<Figure size 576x360 with 1 Axes>"
            ]
          },
          "metadata": {
            "needs_background": "light"
          }
        }
      ]
    },
    {
      "cell_type": "markdown",
      "source": [
        "9번째 에포크에서 과대적합 시작 -> 9번의 에포크로 새로운 모델을 훈련"
      ],
      "metadata": {
        "id": "FGZHOHTTMq7d"
      }
    },
    {
      "cell_type": "code",
      "source": [
        "model = models.Sequential()\n",
        "model.add(layers.Dense(64, activation='relu', input_shape = (10000,)))\n",
        "model.add(layers.Dense(64,activation = 'relu'))\n",
        "model.add(layers.Dense(46, activation = 'softmax'))\n",
        "\n",
        "model.compile(optimizer='rmsprop', loss = 'categorical_crossentropy', metrics = ['accuracy'])\n",
        "model.fit(partial_x_train, partial_y_train, epochs=9, batch_size=512)\n",
        "results = model.evaluate(x_test, one_hot_test_labels)\n",
        "print(results)"
      ],
      "metadata": {
        "colab": {
          "base_uri": "https://localhost:8080/"
        },
        "id": "MG3uRmIjMnyV",
        "outputId": "22e471f1-1542-4ac7-c31f-e45fc70a95dc"
      },
      "execution_count": null,
      "outputs": [
        {
          "output_type": "stream",
          "name": "stdout",
          "text": [
            "Epoch 1/9\n",
            "16/16 [==============================] - 1s 28ms/step - loss: 2.6456 - accuracy: 0.5341\n",
            "Epoch 2/9\n",
            "16/16 [==============================] - 0s 29ms/step - loss: 1.4232 - accuracy: 0.7055\n",
            "Epoch 3/9\n",
            "16/16 [==============================] - 0s 30ms/step - loss: 1.0644 - accuracy: 0.7762\n",
            "Epoch 4/9\n",
            "16/16 [==============================] - 0s 29ms/step - loss: 0.8437 - accuracy: 0.8240\n",
            "Epoch 5/9\n",
            "16/16 [==============================] - 0s 29ms/step - loss: 0.6773 - accuracy: 0.8542\n",
            "Epoch 6/9\n",
            "16/16 [==============================] - 0s 30ms/step - loss: 0.5442 - accuracy: 0.8850\n",
            "Epoch 7/9\n",
            "16/16 [==============================] - 1s 47ms/step - loss: 0.4357 - accuracy: 0.9073\n",
            "Epoch 8/9\n",
            "16/16 [==============================] - 1s 31ms/step - loss: 0.3533 - accuracy: 0.9218\n",
            "Epoch 9/9\n",
            "16/16 [==============================] - 0s 29ms/step - loss: 0.2880 - accuracy: 0.9371\n",
            "71/71 [==============================] - 0s 3ms/step - loss: 1.0032 - accuracy: 0.7845\n",
            "[1.0031898021697998, 0.7845057845115662]\n"
          ]
        }
      ]
    },
    {
      "cell_type": "code",
      "source": [
        "predictions = model.predict(x_test)"
      ],
      "metadata": {
        "id": "hNTexwOBNCcI"
      },
      "execution_count": null,
      "outputs": []
    },
    {
      "cell_type": "code",
      "source": [
        "predictions[0].shape"
      ],
      "metadata": {
        "colab": {
          "base_uri": "https://localhost:8080/"
        },
        "id": "bFnsm809NNTm",
        "outputId": "d2ef4d08-08bb-421d-be71-79c295065592"
      },
      "execution_count": null,
      "outputs": [
        {
          "output_type": "execute_result",
          "data": {
            "text/plain": [
              "(46,)"
            ]
          },
          "metadata": {},
          "execution_count": 21
        }
      ]
    },
    {
      "cell_type": "code",
      "source": [
        "np.sum(predictions[0])"
      ],
      "metadata": {
        "colab": {
          "base_uri": "https://localhost:8080/"
        },
        "id": "irrqmwJENPTH",
        "outputId": "8c6e6405-7473-4605-8e41-29c601ac5d37"
      },
      "execution_count": null,
      "outputs": [
        {
          "output_type": "execute_result",
          "data": {
            "text/plain": [
              "1.0000001"
            ]
          },
          "metadata": {},
          "execution_count": 22
        }
      ]
    },
    {
      "cell_type": "code",
      "source": [
        "np.argmax(predictions[0])"
      ],
      "metadata": {
        "id": "ssP_62AVNREl",
        "outputId": "564a5997-2409-46d2-e0ac-7ec9c92add3b",
        "colab": {
          "base_uri": "https://localhost:8080/"
        }
      },
      "execution_count": null,
      "outputs": [
        {
          "output_type": "execute_result",
          "data": {
            "text/plain": [
              "3"
            ]
          },
          "metadata": {},
          "execution_count": 23
        }
      ]
    },
    {
      "cell_type": "code",
      "source": [
        "(train_data, train_labels), (test_data, test_labels) = reuters.load_data(num_words=10000)"
      ],
      "metadata": {
        "id": "ytkYezhvNTyG",
        "colab": {
          "base_uri": "https://localhost:8080/"
        },
        "outputId": "cdc1762b-728d-4677-aa68-5ca2477a0df2"
      },
      "execution_count": 4,
      "outputs": [
        {
          "output_type": "stream",
          "name": "stdout",
          "text": [
            "Downloading data from https://storage.googleapis.com/tensorflow/tf-keras-datasets/reuters.npz\n",
            "2113536/2110848 [==============================] - 0s 0us/step\n",
            "2121728/2110848 [==============================] - 0s 0us/step\n"
          ]
        }
      ]
    },
    {
      "cell_type": "code",
      "source": [
        "print(len(train_data))\n",
        "print(len(test_data))"
      ],
      "metadata": {
        "colab": {
          "base_uri": "https://localhost:8080/"
        },
        "id": "P5_DzUx77mcR",
        "outputId": "73df3cff-f13a-4cdb-ddda-823cce77c5b1"
      },
      "execution_count": 5,
      "outputs": [
        {
          "output_type": "stream",
          "name": "stdout",
          "text": [
            "8982\n",
            "2246\n"
          ]
        }
      ]
    },
    {
      "cell_type": "code",
      "source": [
        "print(train_data[0])"
      ],
      "metadata": {
        "colab": {
          "base_uri": "https://localhost:8080/"
        },
        "id": "wolJ1lFa7sWe",
        "outputId": "faf57d00-9eb3-4ab9-d917-bce82b69cdf5"
      },
      "execution_count": 6,
      "outputs": [
        {
          "output_type": "stream",
          "name": "stdout",
          "text": [
            "[1, 2, 2, 8, 43, 10, 447, 5, 25, 207, 270, 5, 3095, 111, 16, 369, 186, 90, 67, 7, 89, 5, 19, 102, 6, 19, 124, 15, 90, 67, 84, 22, 482, 26, 7, 48, 4, 49, 8, 864, 39, 209, 154, 6, 151, 6, 83, 11, 15, 22, 155, 11, 15, 7, 48, 9, 4579, 1005, 504, 6, 258, 6, 272, 11, 15, 22, 134, 44, 11, 15, 16, 8, 197, 1245, 90, 67, 52, 29, 209, 30, 32, 132, 6, 109, 15, 17, 12]\n"
          ]
        }
      ]
    },
    {
      "cell_type": "code",
      "source": [
        "print(train_labels[45])"
      ],
      "metadata": {
        "colab": {
          "base_uri": "https://localhost:8080/"
        },
        "id": "rQsv5yS27yLe",
        "outputId": "376843c0-e472-42a9-b18f-1e6c774d8b52"
      },
      "execution_count": 7,
      "outputs": [
        {
          "output_type": "stream",
          "name": "stdout",
          "text": [
            "20\n"
          ]
        }
      ]
    },
    {
      "cell_type": "code",
      "source": [
        "import numpy as np"
      ],
      "metadata": {
        "id": "oznFrYj372VF"
      },
      "execution_count": 8,
      "outputs": []
    },
    {
      "cell_type": "markdown",
      "source": [
        "데이터를 벡터로 변환"
      ],
      "metadata": {
        "id": "ARUst1YY8Wha"
      }
    },
    {
      "cell_type": "code",
      "source": [
        "def vectorize_sequences(seqs, dim=10000):\n",
        "  results = np.zeros((len(seqs), dim))\n",
        "  for i, seq in enumerate(seqs):\n",
        "    results[i,seq] = 1.\n",
        "  return results\n",
        "\n",
        "x_train = vectorize_sequences(train_data)\n",
        "x_test = vectorize_sequences(test_data)"
      ],
      "metadata": {
        "id": "RxdWJtHC76fP"
      },
      "execution_count": 9,
      "outputs": []
    },
    {
      "cell_type": "markdown",
      "source": [
        "레이블을 벡터로 변환 (원핫인코딩이 범주형 데이터에 널리사용)"
      ],
      "metadata": {
        "id": "5ZWZ_o_A8cFO"
      }
    },
    {
      "cell_type": "code",
      "source": [
        "def to_one_hot(labels, dim=46):\n",
        "  results = np.zeros((len(labels), dim))\n",
        "  for i, l in enumerate(labels):\n",
        "    results[i, l] = 1.\n",
        "  return results\n",
        "\n",
        "one_hot_train_labels = to_one_hot(train_labels)\n",
        "one_hot_test_lablels = to_one_hot(test_labels)"
      ],
      "metadata": {
        "id": "FrsH_8Bg8SS0"
      },
      "execution_count": 10,
      "outputs": []
    },
    {
      "cell_type": "code",
      "source": [
        "from keras.utils.np_utils import to_categorical\n",
        "\n",
        "one_hot_train_labels = to_categorical(train_labels)\n",
        "one_hot_test_labels = to_categorical(test_labels)"
      ],
      "metadata": {
        "id": "8z-ri5yz9Hkd"
      },
      "execution_count": 12,
      "outputs": []
    },
    {
      "cell_type": "markdown",
      "source": [
        "**모델구성**\n",
        "\n",
        "마지막 Dense층의 크기가 46 → 각 입력 샘플에 대해 46차원의 벡터를 출\n",
        "력. 이 벡터의 각 원소는 각기 다른 출력 클래스가 인코딩 된 것\n",
        "• 마지막 층에 softmax 활성화 함수 사용 → 각 입력 샘플마다 46개의 출력\n",
        "클래스에 대한 확률 분포를 출력. 46차원 출력벡터를 만들며 output[i]는 어\n",
        "떤 샘플이 클래스 i에 속할 확률. 46개 값을 모두 더하면 1이 됨"
      ],
      "metadata": {
        "id": "1bUmSqtL9dcU"
      }
    },
    {
      "cell_type": "code",
      "source": [
        "from keras import models\n",
        "from keras import layers\n",
        "\n",
        "model = models.Sequential()\n",
        "model.add(layers.Dense(64, activation = 'relu', input_shape = (10000,)))\n",
        "model.add(layers.Dense(32, activation = 'relu'))\n",
        "model.add(layers.Dense(46, activation = 'softmax'))"
      ],
      "metadata": {
        "id": "wTJHSzlG9eub"
      },
      "execution_count": 34,
      "outputs": []
    },
    {
      "cell_type": "code",
      "source": [
        "model.compile(optimizer = 'rmsprop', loss='categorical_crossentropy', metrics=['accuracy'])"
      ],
      "metadata": {
        "id": "E203Splw9_mi"
      },
      "execution_count": 37,
      "outputs": []
    },
    {
      "cell_type": "markdown",
      "source": [
        "훈련검증 - 훈련데이터에서 1000개 샘플 떼어내어 검증세트로 만든다"
      ],
      "metadata": {
        "id": "mk_ENuR9-jZ0"
      }
    },
    {
      "cell_type": "code",
      "source": [
        "x_val = x_train[:1000]\n",
        "partial_x_train = x_train[1000:]\n",
        "y_val = one_hot_train_labels[:1000]\n",
        "partial_y_train = one_hot_train_labels[1000:]"
      ],
      "metadata": {
        "id": "VI0uxm-N-gmn"
      },
      "execution_count": 38,
      "outputs": []
    },
    {
      "cell_type": "markdown",
      "source": [
        "20번의 에포크로 모델을 훈련"
      ],
      "metadata": {
        "id": "It6H99FeDeDn"
      }
    },
    {
      "cell_type": "code",
      "source": [
        "history = model.fit(partial_x_train, partial_y_train, epochs=20, batch_size=512, validation_data=(x_val, y_val))"
      ],
      "metadata": {
        "colab": {
          "base_uri": "https://localhost:8080/"
        },
        "id": "7iTpB8mF-_SC",
        "outputId": "03976107-a179-43b1-d1ea-00b6f3d6a0d4"
      },
      "execution_count": 39,
      "outputs": [
        {
          "output_type": "stream",
          "name": "stdout",
          "text": [
            "Epoch 1/20\n",
            "16/16 [==============================] - 1s 53ms/step - loss: 2.8848 - accuracy: 0.4248 - val_loss: 2.1500 - val_accuracy: 0.6110\n",
            "Epoch 2/20\n",
            "16/16 [==============================] - 1s 42ms/step - loss: 1.7301 - accuracy: 0.6636 - val_loss: 1.5239 - val_accuracy: 0.7000\n",
            "Epoch 3/20\n",
            "16/16 [==============================] - 1s 41ms/step - loss: 1.2427 - accuracy: 0.7471 - val_loss: 1.2603 - val_accuracy: 0.7300\n",
            "Epoch 4/20\n",
            "16/16 [==============================] - 1s 41ms/step - loss: 0.9689 - accuracy: 0.7972 - val_loss: 1.1157 - val_accuracy: 0.7530\n",
            "Epoch 5/20\n",
            "16/16 [==============================] - 1s 42ms/step - loss: 0.7867 - accuracy: 0.8320 - val_loss: 1.0252 - val_accuracy: 0.7740\n",
            "Epoch 6/20\n",
            "16/16 [==============================] - 1s 41ms/step - loss: 0.6456 - accuracy: 0.8658 - val_loss: 0.9892 - val_accuracy: 0.7830\n",
            "Epoch 7/20\n",
            "16/16 [==============================] - 1s 42ms/step - loss: 0.5315 - accuracy: 0.8899 - val_loss: 0.9339 - val_accuracy: 0.8060\n",
            "Epoch 8/20\n",
            "16/16 [==============================] - 1s 42ms/step - loss: 0.4406 - accuracy: 0.9126 - val_loss: 0.9145 - val_accuracy: 0.8020\n",
            "Epoch 9/20\n",
            "16/16 [==============================] - 1s 41ms/step - loss: 0.3703 - accuracy: 0.9263 - val_loss: 0.9079 - val_accuracy: 0.8060\n",
            "Epoch 10/20\n",
            "16/16 [==============================] - 1s 41ms/step - loss: 0.3138 - accuracy: 0.9349 - val_loss: 0.9029 - val_accuracy: 0.8130\n",
            "Epoch 11/20\n",
            "16/16 [==============================] - 1s 42ms/step - loss: 0.2662 - accuracy: 0.9430 - val_loss: 0.9254 - val_accuracy: 0.8110\n",
            "Epoch 12/20\n",
            "16/16 [==============================] - 1s 42ms/step - loss: 0.2300 - accuracy: 0.9458 - val_loss: 0.9283 - val_accuracy: 0.8050\n",
            "Epoch 13/20\n",
            "16/16 [==============================] - 1s 42ms/step - loss: 0.2057 - accuracy: 0.9503 - val_loss: 0.9578 - val_accuracy: 0.8080\n",
            "Epoch 14/20\n",
            "16/16 [==============================] - 1s 41ms/step - loss: 0.1851 - accuracy: 0.9513 - val_loss: 0.9764 - val_accuracy: 0.8060\n",
            "Epoch 15/20\n",
            "16/16 [==============================] - 1s 41ms/step - loss: 0.1650 - accuracy: 0.9533 - val_loss: 1.0066 - val_accuracy: 0.8070\n",
            "Epoch 16/20\n",
            "16/16 [==============================] - 1s 42ms/step - loss: 0.1536 - accuracy: 0.9559 - val_loss: 0.9743 - val_accuracy: 0.8160\n",
            "Epoch 17/20\n",
            "16/16 [==============================] - 1s 42ms/step - loss: 0.1433 - accuracy: 0.9558 - val_loss: 1.0080 - val_accuracy: 0.8020\n",
            "Epoch 18/20\n",
            "16/16 [==============================] - 1s 42ms/step - loss: 0.1323 - accuracy: 0.9580 - val_loss: 1.0198 - val_accuracy: 0.8190\n",
            "Epoch 19/20\n",
            "16/16 [==============================] - 1s 42ms/step - loss: 0.1291 - accuracy: 0.9574 - val_loss: 1.0380 - val_accuracy: 0.8020\n",
            "Epoch 20/20\n",
            "16/16 [==============================] - 1s 40ms/step - loss: 0.1247 - accuracy: 0.9562 - val_loss: 1.0572 - val_accuracy: 0.8060\n"
          ]
        }
      ]
    },
    {
      "cell_type": "markdown",
      "source": [
        "• 손실과 정확도 곡선을 그림"
      ],
      "metadata": {
        "id": "VMcL87TeDg0j"
      }
    },
    {
      "cell_type": "code",
      "source": [
        "import matplotlib.pyplot as plt\n",
        "\n",
        "history_dict = history.history\n",
        "loss = history_dict['loss']\n",
        "val_loss = history_dict['val_loss']\n",
        "\n",
        "epochs = range(1, len(loss)+1)\n",
        "\n",
        "plt.figure(figsize = (10,7))\n",
        "plt.plot(epochs, loss, 'bo', label='Training loss')\n",
        "plt.plot(epochs, val_loss, 'b', label='Validation loss')\n",
        "plt.title('Training and validation loss')\n",
        "plt.xlabel('Epochs')\n",
        "plt.ylabel('loss')\n",
        "plt.legend()\n",
        "plt.show()"
      ],
      "metadata": {
        "colab": {
          "base_uri": "https://localhost:8080/",
          "height": 458
        },
        "id": "x4XflAXQ_I7p",
        "outputId": "cf0613f2-c0ee-4baf-da56-fccefbb6f397"
      },
      "execution_count": 40,
      "outputs": [
        {
          "output_type": "display_data",
          "data": {
            "image/png": "[encoded data removed]",
            "text/plain": [
              "<Figure size 720x504 with 1 Axes>"
            ]
          },
          "metadata": {
            "needs_background": "light"
          }
        }
      ]
    },
    {
      "cell_type": "code",
      "source": [
        "plt.clf()\n",
        "acc = history_dict['accuracy']\n",
        "val_acc = history_dict['val_accuracy']\n",
        "\n",
        "plt.figure(figsize = (10,8))\n",
        "plt.plot(epochs, acc, 'bo', label='Training acc')\n",
        "plt.plot(epochs, val_acc, 'b', label='Validation acc')\n",
        "plt.title('Training and validation accuracy')\n",
        "plt.xlabel('Epochs')\n",
        "plt.ylabel('Accuracy')\n",
        "plt.legend()\n",
        "plt.show()"
      ],
      "metadata": {
        "colab": {
          "base_uri": "https://localhost:8080/",
          "height": 531
        },
        "id": "v-2CPvI3Bg7t",
        "outputId": "2edbba32-20cc-478b-f57e-d1baefca0694"
      },
      "execution_count": 41,
      "outputs": [
        {
          "output_type": "display_data",
          "data": {
            "text/plain": [
              "<Figure size 432x288 with 0 Axes>"
            ]
          },
          "metadata": {}
        },
        {
          "output_type": "display_data",
          "data": {
            "image/png": "[encoded data removed]",
            "text/plain": [
              "<Figure size 720x576 with 1 Axes>"
            ]
          },
          "metadata": {
            "needs_background": "light"
          }
        }
      ]
    },
    {
      "cell_type": "markdown",
      "source": [
        "9번째 에포크에서 과대적합 시작→ 9번의 에포크로 새로운 모델을 훈련"
      ],
      "metadata": {
        "id": "UH9MQnp_DmVw"
      }
    },
    {
      "cell_type": "code",
      "source": [
        "model = models.Sequential()\n",
        "model.add(layers.Dense(64, activation = 'relu', input_shape = (10000,)))\n",
        "model.add(layers.Dense(32, activation = 'relu'))\n",
        "model.add(layers.Dense(46, activation = 'softmax'))\n",
        "\n",
        "model.compile(optimizer = 'rmsprop', loss='categorical_crossentropy', metrics=['accuracy'])\n",
        "model.fit(partial_x_train, partial_y_train, epochs=9, batch_size=512, validation_data=(x_val, y_val))\n",
        "\n",
        "results = model.evaluate(x_test, one_hot_test_labels)\n",
        "print(results)"
      ],
      "metadata": {
        "colab": {
          "base_uri": "https://localhost:8080/"
        },
        "id": "eJmKyGUNCvke",
        "outputId": "a12cd4af-0f8a-4f96-b1ab-c7faac135d8d"
      },
      "execution_count": 42,
      "outputs": [
        {
          "output_type": "stream",
          "name": "stdout",
          "text": [
            "Epoch 1/9\n",
            "16/16 [==============================] - 2s 69ms/step - loss: 2.6937 - accuracy: 0.5129 - val_loss: 1.8822 - val_accuracy: 0.6000\n",
            "Epoch 2/9\n",
            "16/16 [==============================] - 1s 64ms/step - loss: 1.5588 - accuracy: 0.6655 - val_loss: 1.4083 - val_accuracy: 0.6840\n",
            "Epoch 3/9\n",
            "16/16 [==============================] - 1s 41ms/step - loss: 1.1781 - accuracy: 0.7511 - val_loss: 1.2062 - val_accuracy: 0.7360\n",
            "Epoch 4/9\n",
            "16/16 [==============================] - 1s 41ms/step - loss: 0.9465 - accuracy: 0.8016 - val_loss: 1.1003 - val_accuracy: 0.7640\n",
            "Epoch 5/9\n",
            "16/16 [==============================] - 1s 41ms/step - loss: 0.7773 - accuracy: 0.8379 - val_loss: 1.0221 - val_accuracy: 0.7800\n",
            "Epoch 6/9\n",
            "16/16 [==============================] - 1s 41ms/step - loss: 0.6429 - accuracy: 0.8643 - val_loss: 0.9806 - val_accuracy: 0.7930\n",
            "Epoch 7/9\n",
            "16/16 [==============================] - 1s 41ms/step - loss: 0.5310 - accuracy: 0.8887 - val_loss: 0.9280 - val_accuracy: 0.8150\n",
            "Epoch 8/9\n",
            "16/16 [==============================] - 1s 41ms/step - loss: 0.4386 - accuracy: 0.9078 - val_loss: 0.9396 - val_accuracy: 0.7990\n",
            "Epoch 9/9\n",
            "16/16 [==============================] - 1s 40ms/step - loss: 0.3653 - accuracy: 0.9236 - val_loss: 0.9282 - val_accuracy: 0.8050\n",
            "71/71 [==============================] - 0s 2ms/step - loss: 1.0153 - accuracy: 0.7743\n",
            "[1.0153284072875977, 0.7742653489112854]\n"
          ]
        }
      ]
    },
    {
      "cell_type": "code",
      "source": [
        "predictions = model.predict(x_test)"
      ],
      "metadata": {
        "id": "uHupIx_LC7mR"
      },
      "execution_count": 30,
      "outputs": []
    },
    {
      "cell_type": "code",
      "source": [
        "predictions[0].shape"
      ],
      "metadata": {
        "colab": {
          "base_uri": "https://localhost:8080/"
        },
        "id": "sZ0yBB-PG32G",
        "outputId": "e99f6096-d73d-41aa-aaa2-733c8c7bcf21"
      },
      "execution_count": 31,
      "outputs": [
        {
          "output_type": "execute_result",
          "data": {
            "text/plain": [
              "(46,)"
            ]
          },
          "metadata": {},
          "execution_count": 31
        }
      ]
    },
    {
      "cell_type": "code",
      "source": [
        "np.sum(predictions[0])"
      ],
      "metadata": {
        "colab": {
          "base_uri": "https://localhost:8080/"
        },
        "id": "t7CEW07WG6a9",
        "outputId": "8088ac7b-c5cd-4c98-9458-048f38b59b2e"
      },
      "execution_count": 32,
      "outputs": [
        {
          "output_type": "execute_result",
          "data": {
            "text/plain": [
              "1.0"
            ]
          },
          "metadata": {},
          "execution_count": 32
        }
      ]
    },
    {
      "cell_type": "code",
      "source": [
        "np.argmax(predictions[0])"
      ],
      "metadata": {
        "colab": {
          "base_uri": "https://localhost:8080/"
        },
        "id": "_oZlL--wG8hH",
        "outputId": "3ff4a1a6-919f-4822-b36b-ead43222b6c4"
      },
      "execution_count": 33,
      "outputs": [
        {
          "output_type": "execute_result",
          "data": {
            "text/plain": [
              "3"
            ]
          },
          "metadata": {},
          "execution_count": 33
        }
      ]
    },
    {
      "cell_type": "code",
      "source": [
        ""
      ],
      "metadata": {
        "id": "UyFNHxbBG-gQ"
      },
      "execution_count": null,
      "outputs": []
    }
  ]
}