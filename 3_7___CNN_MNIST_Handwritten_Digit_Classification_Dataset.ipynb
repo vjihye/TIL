{
  "nbformat": 4,
  "nbformat_minor": 0,
  "metadata": {
    "colab": {
      "name": "3.7._ CNN_MNIST Handwritten Digit Classification Dataset.ipynb",
      "provenance": [],
      "authorship_tag": "ABX9TyO1Rd6nTVPOEWFJCRLFBwto",
      "include_colab_link": true
    },
    "kernelspec": {
      "name": "python3",
      "display_name": "Python 3"
    },
    "language_info": {
      "name": "python"
    }
  },
  "cells": [
    {
      "cell_type": "markdown",
      "metadata": {
        "id": "view-in-github",
        "colab_type": "text"
      },
      "source": [
        "<a href=\"https://colab.research.google.com/github/vjihye/TIL/blob/master/3_7___CNN_MNIST_Handwritten_Digit_Classification_Dataset.ipynb\" target=\"_parent\"><img src=\"https://colab.research.google.com/assets/colab-badge.svg\" alt=\"Open In Colab\"/></a>"
      ]
    },
    {
      "cell_type": "code",
      "execution_count": 11,
      "metadata": {
        "id": "rxzKxlAdCtY4"
      },
      "outputs": [],
      "source": [
        "import tensorflow as tf\n",
        "from tensorflow.keras import datasets, layers, models\n",
        "import matplotlib.pyplot as plt"
      ]
    },
    {
      "cell_type": "code",
      "source": [
        "from keras.datasets import mnist"
      ],
      "metadata": {
        "id": "1B3B4UyAHUTq"
      },
      "execution_count": 12,
      "outputs": []
    },
    {
      "cell_type": "code",
      "source": [
        "(trainx, trainy), (testx, testy) = mnist.load_data()"
      ],
      "metadata": {
        "colab": {
          "base_uri": "https://localhost:8080/"
        },
        "id": "Q49tJBFsHXeN",
        "outputId": "42387210-2c9b-4168-b187-d2906fcf22d5"
      },
      "execution_count": 3,
      "outputs": [
        {
          "output_type": "stream",
          "name": "stdout",
          "text": [
            "Downloading data from https://storage.googleapis.com/tensorflow/tf-keras-datasets/mnist.npz\n",
            "11493376/11490434 [==============================] - 0s 0us/step\n",
            "11501568/11490434 [==============================] - 0s 0us/step\n"
          ]
        }
      ]
    },
    {
      "cell_type": "code",
      "source": [
        "trainx = trainx.reshape((trainx.shape[0], 28, 28, 1))\n",
        "testx = testx.reshape((testx.shape[0], 28, 28, 1))"
      ],
      "metadata": {
        "id": "xDv5suJPIdjb"
      },
      "execution_count": 8,
      "outputs": []
    },
    {
      "cell_type": "code",
      "source": [
        "from tensorflow.keras.utils import to_categorical"
      ],
      "metadata": {
        "id": "4qHbqGbPJX4g"
      },
      "execution_count": 14,
      "outputs": []
    },
    {
      "cell_type": "code",
      "source": [
        "trainy = to_categorical(trainy)\n",
        "testy = to_categorical(testy)"
      ],
      "metadata": {
        "id": "ef9TZsweInCA"
      },
      "execution_count": 15,
      "outputs": []
    },
    {
      "cell_type": "markdown",
      "source": [
        "## Baseline Model\n",
        "### - prepare Pixel Data"
      ],
      "metadata": {
        "id": "w14noupoRKn5"
      }
    },
    {
      "cell_type": "code",
      "source": [
        "def load_dataset():\n",
        "  (trainx, trainy), (testx, testy) = mnist.load_data()\n",
        "  trainx = trainx.reshape((trainx.shape[0], 28, 28, 1))\n",
        "  testx = testx.reshape((testx.shape[0], 28, 28, 1))\n",
        "  trainy = to_categorical(trainy)\n",
        "  testy = to_categorical(testy)\n",
        "  return trainx, trainy, testx, testy"
      ],
      "metadata": {
        "id": "I6FYb5PwJ7QN"
      },
      "execution_count": 16,
      "outputs": []
    },
    {
      "cell_type": "code",
      "source": [
        "def prep_pixels(train, test):\n",
        "  train_norm = train.astype('float32') # int->floae 로 변환\n",
        "  test_norm = test.astype('float32')\n",
        "  train_norm = train_norm / 255.0 # 0~1로 만들기\n",
        "  test_norm = test_norm / 255.0\n",
        "  return train_norm, test_norm\n",
        " "
      ],
      "metadata": {
        "id": "aXkDdCq2KOwZ"
      },
      "execution_count": 18,
      "outputs": []
    },
    {
      "cell_type": "markdown",
      "source": [
        "### - define cnn model"
      ],
      "metadata": {
        "id": "ze7k6jv6RsNd"
      }
    },
    {
      "cell_type": "code",
      "source": [
        "def define_model():\n",
        "  model = Sequential()\n",
        "  model.add(Conv2D(32,(3,3), activation='relu', kernel_initializer='he_uniform', input_shape = (28,28,1)))\n",
        "  model.add(MaxPooling2D((2,2)))\n",
        "  model.add(Flatten())\n",
        "  model.add(Dense(100, activation='relu', kernel_initializer='he_uniform'))\n",
        "  model.add(Dense(10, activation='softmax'))\n",
        " # compile model\n",
        "  opt = SGD(lr=0.01, momentum=0.9)\n",
        "  model.compile(optimizer=opt, loss = 'categorical_crossentropy', metrics = ['accuracy'])\n",
        "  return model"
      ],
      "metadata": {
        "id": "6_tt4cU5K9jP"
      },
      "execution_count": 37,
      "outputs": []
    },
    {
      "cell_type": "code",
      "source": [
        "# evaluate a model using k-fold cross-validation\n",
        "def evaluate_model(datax, datay, n_folds=5):\n",
        "  scores, histories = list(), list()\n",
        "\n",
        "# prepare cross validation\n",
        "  kfold = KFold(n_folds, shuffle=True, random_state=1)\n",
        "\n",
        "# enumerate splits\n",
        "  for train_ix, test_ix in kfold.split(datax):\n",
        "    model = define_model()\n",
        "    trainx, trainy, testx, testy = datax[train_ix], datay[train_ix], datax[test_ix], datay[test_ix]\n",
        "    history = model.fit(trainx, trainy, epochs=10, batch_size=32, validation_data = (testx, testy), verbose=0)\n",
        "    _, acc = model.evaluate(testx, testy, verbose=0)\n",
        "    print('>%.3f'%(acc*100.0))\n",
        "    scores.append(acc)\n",
        "    histories.append(history)\n",
        "  return scores, histories"
      ],
      "metadata": {
        "id": "BaZZTa5ALra1"
      },
      "execution_count": 42,
      "outputs": []
    },
    {
      "cell_type": "markdown",
      "source": [
        "### - plot diagnostic learning curves"
      ],
      "metadata": {
        "id": "lFK0FEwJSNca"
      }
    },
    {
      "cell_type": "code",
      "source": [
        "def summerize_diagnostics(histories):\n",
        "  for i in range(len(histories)):\n",
        "    pyplot.subplot(2,1,1)\n",
        "    pyplot.title('Cross Entropy Loss')\n",
        "    pyplot.plot(histories[i].history['loss'], color='blue', label='train')\n",
        "    pyplot.plot(histories[i].history['val_loss'], color='orange', label='test')\n",
        "\n",
        "    pyplot.subplot(2,1,2)\n",
        "    pyplot.title('Classification Accuracy')\n",
        "    pyplot.plot(histories[i].history['accuracy'], color='blue', label='train')\n",
        "    pyplot.plot(histories[i].history['val_accuracy'], color='orange', label='test')\n",
        "  pyplot.show()\n"
      ],
      "metadata": {
        "id": "PuUBHVWsNIWF"
      },
      "execution_count": 23,
      "outputs": []
    },
    {
      "cell_type": "markdown",
      "source": [
        "### - summarize model performance"
      ],
      "metadata": {
        "id": "9lPQ-T7dSVjm"
      }
    },
    {
      "cell_type": "code",
      "source": [
        "def summarize_performance(scores):\n",
        "  print('Accuracy: mean=%.3f std=%.3f, n=%d' % (mean(scores)*100, std(scores)*100, len(scores)))\n",
        "  pyplot.boxplot(scores)\n",
        "  pyplot.show()"
      ],
      "metadata": {
        "id": "KSaoqeMhOKyF"
      },
      "execution_count": 45,
      "outputs": []
    },
    {
      "cell_type": "markdown",
      "source": [
        "### - Running"
      ],
      "metadata": {
        "id": "vGfacSY0SZBF"
      }
    },
    {
      "cell_type": "code",
      "source": [
        "def run_test_harness():\n",
        "  trainx, trainy, testx, testy = load_dataset()\n",
        "  trainx, testx = prep_pixels(trainx, testx)\n",
        "  scores, histories = evaluate_model(trainx, trainy)\n",
        "  summerize_diagnostics(histories)\n",
        "  summarize_performance(scores)\n",
        "run_test_harness()"
      ],
      "metadata": {
        "colab": {
          "base_uri": "https://localhost:8080/",
          "height": 769
        },
        "id": "U_z6DSQDOdlC",
        "outputId": "8183beff-d573-43c8-e9a3-0534263cf3e6"
      },
      "execution_count": 46,
      "outputs": [
        {
          "metadata": {
            "tags": null
          },
          "name": "stderr",
          "output_type": "stream",
          "text": [
            "/usr/local/lib/python3.7/dist-packages/keras/optimizer_v2/gradient_descent.py:102: UserWarning: The `lr` argument is deprecated, use `learning_rate` instead.\n",
            "  super(SGD, self).__init__(name, **kwargs)\n"
          ]
        },
        {
          "output_type": "stream",
          "name": "stdout",
          "text": [
            ">98.467\n",
            ">98.550\n",
            ">98.592\n",
            ">98.800\n",
            ">98.725\n"
          ]
        },
        {
          "output_type": "stream",
          "name": "stderr",
          "text": [
            "/usr/local/lib/python3.7/dist-packages/ipykernel_launcher.py:3: MatplotlibDeprecationWarning: Adding an axes using the same arguments as a previous axes currently reuses the earlier instance.  In a future version, a new instance will always be created and returned.  Meanwhile, this warning can be suppressed, and the future behavior ensured, by passing a unique label to each axes instance.\n",
            "  This is separate from the ipykernel package so we can avoid doing imports until\n",
            "/usr/local/lib/python3.7/dist-packages/ipykernel_launcher.py:8: MatplotlibDeprecationWarning: Adding an axes using the same arguments as a previous axes currently reuses the earlier instance.  In a future version, a new instance will always be created and returned.  Meanwhile, this warning can be suppressed, and the future behavior ensured, by passing a unique label to each axes instance.\n",
            "  \n"
          ]
        },
        {
          "output_type": "display_data",
          "data": {
            "image/png": "[encoded data removed]",
            "text/plain": [
              "<Figure size 432x288 with 2 Axes>"
            ]
          },
          "metadata": {
            "needs_background": "light"
          }
        },
        {
          "output_type": "stream",
          "name": "stdout",
          "text": [
            "Accuracy: mean=98.627 std=0.120, n=5\n"
          ]
        },
        {
          "output_type": "display_data",
          "data": {
            "image/png": "[encoded data removed]",
            "text/plain": [
              "<Figure size 432x288 with 1 Axes>"
            ]
          },
          "metadata": {
            "needs_background": "light"
          }
        }
      ]
    }
  ]
}