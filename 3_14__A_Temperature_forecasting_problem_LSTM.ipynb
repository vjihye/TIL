{
  "nbformat": 4,
  "nbformat_minor": 0,
  "metadata": {
    "colab": {
      "name": "3.14._A Temperature-forecasting problem_LSTM.ipynb",
      "provenance": [],
      "authorship_tag": "ABX9TyNUsOE80uVZzRzCndShggt/",
      "include_colab_link": true
    },
    "kernelspec": {
      "name": "python3",
      "display_name": "Python 3"
    },
    "language_info": {
      "name": "python"
    }
  },
  "cells": [
    {
      "cell_type": "markdown",
      "metadata": {
        "id": "view-in-github",
        "colab_type": "text"
      },
      "source": [
        "<a href=\"https://colab.research.google.com/github/vjihye/TIL/blob/master/3_14__A_Temperature_forecasting_problem_LSTM.ipynb\" target=\"_parent\"><img src=\"https://colab.research.google.com/assets/colab-badge.svg\" alt=\"Open In Colab\"/></a>"
      ]
    },
    {
      "cell_type": "markdown",
      "source": [
        "### Inspecting the data of the Jena weather dataset"
      ],
      "metadata": {
        "id": "PZYgCAhf4Ebf"
      }
    },
    {
      "cell_type": "code",
      "source": [
        "from google.colab import drive\n",
        "drive.mount('/content/drive')"
      ],
      "metadata": {
        "colab": {
          "base_uri": "https://localhost:8080/"
        },
        "id": "mg_9-OjO1uq5",
        "outputId": "54687c77-04d5-4757-a36b-f6baaa6e5d8d"
      },
      "execution_count": 1,
      "outputs": [
        {
          "output_type": "stream",
          "name": "stdout",
          "text": [
            "Mounted at /content/drive\n"
          ]
        }
      ]
    },
    {
      "cell_type": "code",
      "source": [
        "!unzip -qq \"/content/drive/MyDrive/jena_climate_2009_2016.csv.zip\""
      ],
      "metadata": {
        "id": "o0ExVYe515dO"
      },
      "execution_count": 2,
      "outputs": []
    },
    {
      "cell_type": "code",
      "source": [
        "import os"
      ],
      "metadata": {
        "id": "hpQV9iTc2Mpy"
      },
      "execution_count": 3,
      "outputs": []
    },
    {
      "cell_type": "code",
      "source": [
        "fname = 'jena_climate_2009_2016.csv'"
      ],
      "metadata": {
        "id": "fouWYxyT2PDW"
      },
      "execution_count": 6,
      "outputs": []
    },
    {
      "cell_type": "code",
      "source": [
        "f=open(fname)\n",
        "data = f.read()\n",
        "f.close()"
      ],
      "metadata": {
        "id": "prrXrpnA2a-W"
      },
      "execution_count": 7,
      "outputs": []
    },
    {
      "cell_type": "code",
      "source": [
        "lines = data.split('\\n')\n",
        "header = lines[0].split(',')\n",
        "lines = lines[1:]"
      ],
      "metadata": {
        "id": "31BQMxY02e3O"
      },
      "execution_count": 8,
      "outputs": []
    },
    {
      "cell_type": "code",
      "source": [
        "print(header)\n",
        "print(len(header))\n",
        "print(len(lines))"
      ],
      "metadata": {
        "colab": {
          "base_uri": "https://localhost:8080/"
        },
        "id": "oR7hFIix27im",
        "outputId": "3f101aee-f245-49ee-9417-85d299c9de26"
      },
      "execution_count": 9,
      "outputs": [
        {
          "output_type": "stream",
          "name": "stdout",
          "text": [
            "['\"Date Time\"', '\"p (mbar)\"', '\"T (degC)\"', '\"Tpot (K)\"', '\"Tdew (degC)\"', '\"rh (%)\"', '\"VPmax (mbar)\"', '\"VPact (mbar)\"', '\"VPdef (mbar)\"', '\"sh (g/kg)\"', '\"H2OC (mmol/mol)\"', '\"rho (g/m**3)\"', '\"wv (m/s)\"', '\"max. wv (m/s)\"', '\"wd (deg)\"']\n",
            "420451\n"
          ]
        }
      ]
    },
    {
      "cell_type": "markdown",
      "source": [
        "### Parsing the data"
      ],
      "metadata": {
        "id": "A-1C9NTf4MGt"
      }
    },
    {
      "cell_type": "code",
      "source": [
        "import numpy as np"
      ],
      "metadata": {
        "id": "_Iih6Qo32-s1"
      },
      "execution_count": 10,
      "outputs": []
    },
    {
      "cell_type": "code",
      "source": [
        "float_data = np.zeros((len(lines), len(header) -1))"
      ],
      "metadata": {
        "id": "tAqTPAAI3HBt"
      },
      "execution_count": 11,
      "outputs": []
    },
    {
      "cell_type": "code",
      "source": [
        "for i , line in enumerate(lines):\n",
        "  values = [float(x) for x in line.split(',')[1:]]\n",
        "  float_data[i, :] = values"
      ],
      "metadata": {
        "id": "hKIYuxPa3Lp0"
      },
      "execution_count": 12,
      "outputs": []
    },
    {
      "cell_type": "markdown",
      "source": [
        "### Plotting the Temperature time-series"
      ],
      "metadata": {
        "id": "my8ssbxL4TyV"
      }
    },
    {
      "cell_type": "code",
      "source": [
        "from matplotlib import pyplot as plt"
      ],
      "metadata": {
        "id": "LOxnNy293VGT"
      },
      "execution_count": 13,
      "outputs": []
    },
    {
      "cell_type": "code",
      "source": [
        "temp = float_data[:, 1]\n",
        "plt.plot(range(len(temp)), temp)"
      ],
      "metadata": {
        "colab": {
          "base_uri": "https://localhost:8080/",
          "height": 286
        },
        "id": "R4LvREj53ZcX",
        "outputId": "18ef8b16-d30a-4f8a-c2c4-7591f50def2c"
      },
      "execution_count": 14,
      "outputs": [
        {
          "output_type": "execute_result",
          "data": {
            "text/plain": [
              "[<matplotlib.lines.Line2D at 0x7f2541038e90>]"
            ]
          },
          "metadata": {},
          "execution_count": 14
        },
        {
          "output_type": "display_data",
          "data": {
            "text/plain": [
              "<Figure size 432x288 with 1 Axes>"
            ],
            "image/png": "[encoded data removed]"
          },
          "metadata": {
            "needs_background": "light"
          }
        }
      ]
    },
    {
      "cell_type": "markdown",
      "source": [
        "### Plotting the first 10-days of Temperature time-series"
      ],
      "metadata": {
        "id": "H1HaEeQf4XeX"
      }
    },
    {
      "cell_type": "code",
      "source": [
        "plt.plot(range(1440), temp[:1440])"
      ],
      "metadata": {
        "colab": {
          "base_uri": "https://localhost:8080/",
          "height": 283
        },
        "id": "E8wvt7QK3ejL",
        "outputId": "8dee9b09-e16e-47cd-a509-b0c732dac833"
      },
      "execution_count": 15,
      "outputs": [
        {
          "output_type": "execute_result",
          "data": {
            "text/plain": [
              "[<matplotlib.lines.Line2D at 0x7f2534167e50>]"
            ]
          },
          "metadata": {},
          "execution_count": 15
        },
        {
          "output_type": "display_data",
          "data": {
            "text/plain": [
              "<Figure size 432x288 with 1 Axes>"
            ],
            "image/png": "[encoded data removed]"
          },
          "metadata": {
            "needs_background": "light"
          }
        }
      ]
    },
    {
      "cell_type": "markdown",
      "source": [
        "### Preparing the data\n",
        "#### • 각 시계열 특성에 대해 평균을 빼고 표준편차로 나눠 전처리 함\n",
        "#### • 처음 20만개 타임스텝을 훈련 데이터로 사용 → 전체 데이터에서 20만개만 사용하여 평균과 표준편차 계산"
      ],
      "metadata": {
        "id": "G1Yirlao4nQr"
      }
    },
    {
      "cell_type": "code",
      "source": [
        "mean = float_data[:200000].mean(axis = 0)\n",
        "float_data -= mean\n",
        "\n",
        "std = float_data[:200000].std(axis = 0)\n",
        "float_data /= std"
      ],
      "metadata": {
        "id": "hx38kRXw3qmL"
      },
      "execution_count": 18,
      "outputs": []
    },
    {
      "cell_type": "markdown",
      "source": [
        "### Generator yielding timeseries samples and targets"
      ],
      "metadata": {
        "id": "OD0UFdz55JSt"
      }
    },
    {
      "cell_type": "code",
      "source": [
        "def generator(data, lookback, delay, min_index, max_index, shuffle = False, batch_size = 128, step = 6):\n",
        "  if max_index is None:\n",
        "    max_index = len(data) - delay - 1\n",
        "  i = min_index + lookback\n",
        "  while 1:\n",
        "    if shuffle:\n",
        "      rows = np.random.randint(min_index + lookback, max_index, size = batch_size)\n",
        "    else:\n",
        "      if i + batch_size >= max_index:\n",
        "        i = min_index + lookback\n",
        "      rows = np.arange(i, min(i + batch_size, max_index))\n",
        "      i += len(rows)\n",
        "\n",
        "    samples = np.zeros((len(rows), lookback // step, data.shape[-1]))\n",
        "    targets = np.zeros((len(rows),))\n",
        "    for j, row in enumerate(rows):\n",
        "      indices = range(rows[j] - lookback, rows[j], step)\n",
        "      samples[j] = data[indices]\n",
        "      targets[j] = data[rows[j] + delay][1]\n",
        "    yield samples, targets\n"
      ],
      "metadata": {
        "id": "ewj1cWAw47Mq"
      },
      "execution_count": 36,
      "outputs": []
    },
    {
      "cell_type": "markdown",
      "source": [
        "### • 훈련 제너레이터 - 처음 20만개 타임스텝을 사용\n",
        "### • 검증 제너레이터 - 그 다음 10만개 타임스텝을 사용\n",
        "### • 테스트 제너레이터 - 나머지 타임스텝을 사용"
      ],
      "metadata": {
        "id": "caQpQ6tl-gDM"
      }
    },
    {
      "cell_type": "code",
      "source": [
        "lookback = 1440\n",
        "step = 6\n",
        "delay = 144\n",
        "batch_size = 128\n",
        "\n",
        "train_gen = generator(float_data, lookback=lookback, delay=delay, min_index = 0,\n",
        "                      max_index = 200000, shuffle = True, step = step,\n",
        "                      batch_size = batch_size)"
      ],
      "metadata": {
        "id": "MLTIuTFi5T9c"
      },
      "execution_count": 52,
      "outputs": []
    },
    {
      "cell_type": "code",
      "source": [
        "val_gen = generator(float_data, \n",
        "                    lookback = lookback,\n",
        "                    delay = delay, \n",
        "                    min_index = 200001,\n",
        "                    max_index = 300000, \n",
        "                    step = step,\n",
        "                    batch_size = batch_size)\n",
        "\n",
        "test_gen = generator(float_data, lookback = lookback,\n",
        "                     delay = delay,\n",
        "                     min_index = 300001,\n",
        "                     max_index = None,\n",
        "                     step = step, batch_size = batch_size)\n",
        "\n",
        "val_steps = (300000 - 200001 - lookback)\n",
        "test_steps = (len(float_data) - 300001 - lookback)"
      ],
      "metadata": {
        "id": "DnID-xOj-2K3"
      },
      "execution_count": 53,
      "outputs": []
    },
    {
      "cell_type": "markdown",
      "source": [
        "### A common-sense, non-machine-learning baseline(상식수준으로 해법 시도, 정상여부확인)\n",
        "#### • 온도 시계열 데이터가 연속성이 있고 일자별로 주기성을 가진다고 가정 → 오늘 온도는 내일 온도와 비슷할 가능성이 높음 → 지금으로부터 24시간 후 온도는 지금과 동일하다고 예측\n",
        "#### • 이 방법을 평균 **절대값 오차(Mean Absolute Error)**로 평가"
      ],
      "metadata": {
        "id": "swbkS9vOCiMx"
      }
    },
    {
      "cell_type": "code",
      "source": [
        "def evaluate_naive_method():\n",
        "  batch_maes = []\n",
        "\n",
        "  for step in range(val_steps):\n",
        "    samples, targets = next(val_gen)\n",
        "    preds = samples[:, -1, 1]\n",
        "    mae = np.mean(np.abs(preds - targets))\n",
        "    batch_maes.append(mae)\n",
        "  print(np.mean(batch_maes))\n",
        "\n",
        "evaluate_naive_method()"
      ],
      "metadata": {
        "colab": {
          "base_uri": "https://localhost:8080/"
        },
        "id": "ssd_Gw2o_Qz9",
        "outputId": "38569493-e86f-4743-acee-c31ccc176089"
      },
      "execution_count": 40,
      "outputs": [
        {
          "output_type": "stream",
          "name": "stdout",
          "text": [
            "0.2896991739131649\n"
          ]
        }
      ]
    },
    {
      "cell_type": "markdown",
      "source": [
        "#### • 계산된 MAE는 0.29 (평균이 0이고 표준편차가 1) \n",
        "#### → MAE에 표준 편차를 곱하면 섭씨 2.57℃(평균절대값 오차가 상당히 크다)"
      ],
      "metadata": {
        "id": "6FVwbxLPE2Wk"
      }
    },
    {
      "cell_type": "code",
      "source": [
        "celsius_mae = 0.29 * std[1]\n",
        "celsius_mae"
      ],
      "metadata": {
        "colab": {
          "base_uri": "https://localhost:8080/"
        },
        "id": "jzoubneBAah2",
        "outputId": "90c6dfd7-6948-4982-ab76-89deee72a633"
      },
      "execution_count": 43,
      "outputs": [
        {
          "output_type": "execute_result",
          "data": {
            "text/plain": [
              "2.5672247338393395"
            ]
          },
          "metadata": {},
          "execution_count": 43
        }
      ]
    },
    {
      "cell_type": "code",
      "source": [
        "from keras.models import Sequential\n",
        "from keras import layers\n",
        "from tensorflow.keras.optimizers import RMSprop"
      ],
      "metadata": {
        "id": "T0ufzaY4EpKz"
      },
      "execution_count": 45,
      "outputs": []
    },
    {
      "cell_type": "code",
      "source": [
        "model = Sequential()\n",
        "model.add(layers.Flatten(input_shape=(lookback // step, float_data.shape[-1])))\n",
        "model.add(layers.Dense(32, activation='relu'))\n",
        "model.add(layers.Dense(1))\n",
        "\n",
        "model.compile(optimizer = RMSprop(), loss='mae')\n",
        "history = model.fit_generator(train_gen,\n",
        "                              steps_per_epoch = 500,\n",
        "                              epochs=20,\n",
        "                              validation_data=val_gen,\n",
        "                              validation_steps = val_steps)"
      ],
      "metadata": {
        "colab": {
          "base_uri": "https://localhost:8080/"
        },
        "id": "-oKSBXM1Fl_U",
        "outputId": "7e84ee27-659e-401c-ea10-a9db0fe0007d"
      },
      "execution_count": 54,
      "outputs": [
        {
          "output_type": "stream",
          "name": "stdout",
          "text": [
            "Epoch 1/20\n"
          ]
        },
        {
          "output_type": "stream",
          "name": "stderr",
          "text": [
            "/usr/local/lib/python3.7/dist-packages/ipykernel_launcher.py:11: UserWarning: `Model.fit_generator` is deprecated and will be removed in a future version. Please use `Model.fit`, which supports generators.\n",
            "  # This is added back by InteractiveShellApp.init_path()\n"
          ]
        },
        {
          "output_type": "stream",
          "name": "stdout",
          "text": [
            "500/500 [==============================] - 809s 2s/step - loss: 1.1951 - val_loss: 0.5520\n",
            "Epoch 2/20\n",
            "500/500 [==============================] - 775s 2s/step - loss: 0.3963 - val_loss: 0.3167\n",
            "Epoch 3/20\n",
            "500/500 [==============================] - 772s 2s/step - loss: 0.2806 - val_loss: 0.3072\n",
            "Epoch 4/20\n",
            "500/500 [==============================] - 808s 2s/step - loss: 0.2608 - val_loss: 0.3158\n",
            "Epoch 5/20\n",
            "500/500 [==============================] - 808s 2s/step - loss: 0.2508 - val_loss: 0.3323\n",
            "Epoch 6/20\n",
            "500/500 [==============================] - 808s 2s/step - loss: 0.2406 - val_loss: 0.3223\n",
            "Epoch 7/20\n",
            "500/500 [==============================] - 808s 2s/step - loss: 0.2341 - val_loss: 0.3514\n",
            "Epoch 8/20\n",
            "500/500 [==============================] - 775s 2s/step - loss: 0.2290 - val_loss: 0.3242\n",
            "Epoch 9/20\n",
            "500/500 [==============================] - 775s 2s/step - loss: 0.2241 - val_loss: 0.3387\n",
            "Epoch 10/20\n",
            "500/500 [==============================] - 808s 2s/step - loss: 0.2207 - val_loss: 0.3489\n",
            "Epoch 11/20\n",
            "500/500 [==============================] - 773s 2s/step - loss: 0.2181 - val_loss: 0.3464\n",
            "Epoch 12/20\n",
            "500/500 [==============================] - 808s 2s/step - loss: 0.2152 - val_loss: 0.3343\n",
            "Epoch 13/20\n",
            "500/500 [==============================] - 808s 2s/step - loss: 0.2132 - val_loss: 0.3284\n",
            "Epoch 14/20\n",
            "500/500 [==============================] - 808s 2s/step - loss: 0.2101 - val_loss: 0.3924\n",
            "Epoch 15/20\n",
            "500/500 [==============================] - 808s 2s/step - loss: 0.2069 - val_loss: 0.3712\n",
            "Epoch 16/20\n",
            "500/500 [==============================] - 808s 2s/step - loss: 0.2065 - val_loss: 0.3602\n",
            "Epoch 17/20\n",
            "500/500 [==============================] - 808s 2s/step - loss: 0.2057 - val_loss: 0.3506\n",
            "Epoch 18/20\n",
            "500/500 [==============================] - 808s 2s/step - loss: 0.2039 - val_loss: 0.3578\n",
            "Epoch 19/20\n",
            "500/500 [==============================] - 778s 2s/step - loss: 0.2016 - val_loss: 0.3453\n",
            "Epoch 20/20\n",
            "500/500 [==============================] - 808s 2s/step - loss: 0.1986 - val_loss: 0.3467\n"
          ]
        }
      ]
    },
    {
      "cell_type": "code",
      "source": [
        "import matplotlib.pyplot as plt"
      ],
      "metadata": {
        "id": "gZ604bgdGElh"
      },
      "execution_count": 55,
      "outputs": []
    },
    {
      "cell_type": "code",
      "source": [
        "loss = history.history['loss']\n",
        "val_loss = history.history['val_loss']\n",
        "\n",
        "epochs = range(1, len(loss) + 1)\n",
        "plt.figure()\n",
        "plt.plot(epochs, loss, 'bo', label = 'Training loss')\n",
        "plt.plot(epochs, val_loss, 'b', label = 'Validation loss')\n",
        "plt.title('Training and validation loss')\n",
        "plt.legend()\n",
        "\n",
        "plt.show()"
      ],
      "metadata": {
        "colab": {
          "base_uri": "https://localhost:8080/",
          "height": 281
        },
        "id": "E17uiW3pG0S_",
        "outputId": "f27275ac-59bb-43e3-a341-53e89faa1359"
      },
      "execution_count": 56,
      "outputs": [
        {
          "output_type": "display_data",
          "data": {
            "text/plain": [
              "<Figure size 432x288 with 1 Axes>"
            ],
            "image/png": "[encoded data removed]"
          },
          "metadata": {
            "needs_background": "light"
          }
        }
      ]
    },
    {
      "cell_type": "markdown",
      "source": [
        "### • 앞선 모델은 시계열 데이터를 펼쳤기 때문에 입력 데이터에서 시간 개념을 잃어버림 → 인과 관계와 순서가 의미가 있는 시퀀스 데이터를 그대로 사용"
      ],
      "metadata": {
        "id": "wvEUgXRKYBo1"
      }
    }
  ]
}