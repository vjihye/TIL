{
  "nbformat": 4,
  "nbformat_minor": 0,
  "metadata": {
    "colab": {
      "name": "3.3_딥러닝_영화리뷰분류-이진분류.ipynb",
      "provenance": [],
      "authorship_tag": "ABX9TyOjbu5sSVF78Ufgm/7Mb/F7",
      "include_colab_link": true
    },
    "kernelspec": {
      "name": "python3",
      "display_name": "Python 3"
    },
    "language_info": {
      "name": "python"
    }
  },
  "cells": [
    {
      "cell_type": "markdown",
      "metadata": {
        "id": "view-in-github",
        "colab_type": "text"
      },
      "source": [
        "<a href=\"https://colab.research.google.com/github/vjihye/TIL/blob/master/3_3_%EB%94%A5%EB%9F%AC%EB%8B%9D_%EC%98%81%ED%99%94%EB%A6%AC%EB%B7%B0%EB%B6%84%EB%A5%98_%EC%9D%B4%EC%A7%84%EB%B6%84%EB%A5%98.ipynb\" target=\"_parent\"><img src=\"https://colab.research.google.com/assets/colab-badge.svg\" alt=\"Open In Colab\"/></a>"
      ]
    },
    {
      "cell_type": "code",
      "execution_count": null,
      "metadata": {
        "id": "S4Fy-c041g8u"
      },
      "outputs": [],
      "source": [
        "import tensorflow as tf\n",
        "from tensorflow import keras\n",
        "from keras.datasets import imdb\n",
        "\n",
        "import numpy as np\n",
        "import matplotlib.pyplot as plt"
      ]
    },
    {
      "cell_type": "code",
      "source": [
        "(train_data, train_labels), (test_data, test_labels) = imdb.load_data(num_words=10000)"
      ],
      "metadata": {
        "colab": {
          "base_uri": "https://localhost:8080/"
        },
        "id": "xskXgYHP1pmp",
        "outputId": "8b3535d4-c4b1-4dce-fd79-24f79e5877f8"
      },
      "execution_count": null,
      "outputs": [
        {
          "output_type": "stream",
          "name": "stdout",
          "text": [
            "Downloading data from https://storage.googleapis.com/tensorflow/tf-keras-datasets/imdb.npz\n",
            "17465344/17464789 [==============================] - 0s 0us/step\n",
            "17473536/17464789 [==============================] - 0s 0us/step\n"
          ]
        }
      ]
    },
    {
      "cell_type": "code",
      "source": [
        "print(train_data[0])"
      ],
      "metadata": {
        "colab": {
          "base_uri": "https://localhost:8080/"
        },
        "id": "GimLlnUu1zyu",
        "outputId": "8464db82-94cf-43d6-ae53-6c72edebcb8e"
      },
      "execution_count": null,
      "outputs": [
        {
          "output_type": "stream",
          "name": "stdout",
          "text": [
            "[1, 14, 22, 16, 43, 530, 973, 1622, 1385, 65, 458, 4468, 66, 3941, 4, 173, 36, 256, 5, 25, 100, 43, 838, 112, 50, 670, 2, 9, 35, 480, 284, 5, 150, 4, 172, 112, 167, 2, 336, 385, 39, 4, 172, 4536, 1111, 17, 546, 38, 13, 447, 4, 192, 50, 16, 6, 147, 2025, 19, 14, 22, 4, 1920, 4613, 469, 4, 22, 71, 87, 12, 16, 43, 530, 38, 76, 15, 13, 1247, 4, 22, 17, 515, 17, 12, 16, 626, 18, 2, 5, 62, 386, 12, 8, 316, 8, 106, 5, 4, 2223, 5244, 16, 480, 66, 3785, 33, 4, 130, 12, 16, 38, 619, 5, 25, 124, 51, 36, 135, 48, 25, 1415, 33, 6, 22, 12, 215, 28, 77, 52, 5, 14, 407, 16, 82, 2, 8, 4, 107, 117, 5952, 15, 256, 4, 2, 7, 3766, 5, 723, 36, 71, 43, 530, 476, 26, 400, 317, 46, 7, 4, 2, 1029, 13, 104, 88, 4, 381, 15, 297, 98, 32, 2071, 56, 26, 141, 6, 194, 7486, 18, 4, 226, 22, 21, 134, 476, 26, 480, 5, 144, 30, 5535, 18, 51, 36, 28, 224, 92, 25, 104, 4, 226, 65, 16, 38, 1334, 88, 12, 16, 283, 5, 16, 4472, 113, 103, 32, 15, 16, 5345, 19, 178, 32]\n"
          ]
        }
      ]
    },
    {
      "cell_type": "code",
      "source": [
        "print(train_labels[0])"
      ],
      "metadata": {
        "colab": {
          "base_uri": "https://localhost:8080/"
        },
        "id": "9S_eYvLb1-oX",
        "outputId": "37525b7f-a0e8-4693-d7ec-337b4b12e467"
      },
      "execution_count": null,
      "outputs": [
        {
          "output_type": "stream",
          "name": "stdout",
          "text": [
            "1\n"
          ]
        }
      ]
    },
    {
      "cell_type": "code",
      "source": [
        "print(max([max(sequence) for sequence in train_data]))"
      ],
      "metadata": {
        "colab": {
          "base_uri": "https://localhost:8080/"
        },
        "id": "RkLTYxFP2B10",
        "outputId": "8883f284-3dd5-44ba-cad9-50e36d7a5ec0"
      },
      "execution_count": null,
      "outputs": [
        {
          "output_type": "stream",
          "name": "stdout",
          "text": [
            "9999\n"
          ]
        }
      ]
    },
    {
      "cell_type": "code",
      "source": [
        "word_index = imdb.get_word_index()"
      ],
      "metadata": {
        "colab": {
          "base_uri": "https://localhost:8080/"
        },
        "id": "NxX66pWg2INU",
        "outputId": "b15f617e-2965-4159-c7c1-b5600bc38fcf"
      },
      "execution_count": null,
      "outputs": [
        {
          "output_type": "stream",
          "name": "stdout",
          "text": [
            "Downloading data from https://storage.googleapis.com/tensorflow/tf-keras-datasets/imdb_word_index.json\n",
            "1646592/1641221 [==============================] - 0s 0us/step\n",
            "1654784/1641221 [==============================] - 0s 0us/step\n"
          ]
        }
      ]
    },
    {
      "cell_type": "code",
      "source": [
        "reverse_word_index = dict([(value, key) for (key, value) in word_index.items()])"
      ],
      "metadata": {
        "id": "G7MAkxzO2Mt8"
      },
      "execution_count": null,
      "outputs": []
    },
    {
      "cell_type": "code",
      "source": [
        "decoded_review = ' '.join([reverse_word_index.get(i-3, '?') for i in train_data[0]])\n",
        "print(decoded_review)"
      ],
      "metadata": {
        "colab": {
          "base_uri": "https://localhost:8080/"
        },
        "id": "H5UfSRgZ2k9G",
        "outputId": "6a3a9f28-c5bc-4015-dbae-93bf5b3cf2dc"
      },
      "execution_count": null,
      "outputs": [
        {
          "output_type": "stream",
          "name": "stdout",
          "text": [
            "? this film was just brilliant casting location scenery story direction everyone's really suited the part they played and you could just imagine being there robert ? is an amazing actor and now the same being director ? father came from the same scottish island as myself so i loved the fact there was a real connection with this film the witty remarks throughout the film were great it was just brilliant so much that i bought the film as soon as it was released for ? and would recommend it to everyone to watch and the fly fishing was amazing really cried at the end it was so sad and you know what they say if you cry at a film it must have been good and this definitely was also ? to the two little boy's that played the ? of norman and paul they were just brilliant children are often left out of the ? list i think because the stars that play them all grown up are such a big profile for the whole film but these children are amazing and should be praised for what they have done don't you think the whole story was so lovely because it was true and was someone's life after all that was shared with us all\n"
          ]
        }
      ]
    },
    {
      "cell_type": "markdown",
      "source": [
        "정수 시퀀스를 이진 행렬로 인코딩"
      ],
      "metadata": {
        "id": "90dsa6fl35mC"
      }
    },
    {
      "cell_type": "code",
      "source": [
        "def vectorize_sequences(seqs, dim=10000):\n",
        "  results = np.zeros((len(seqs), dim))\n",
        "  for i, seq in enumerate(seqs):\n",
        "    results[i, seq] = 1.\n",
        "  return results\n",
        "\n",
        "x_train = vectorize_sequences(train_data)\n",
        "x_test = vectorize_sequences(test_data)"
      ],
      "metadata": {
        "id": "wRebTUWl2ymc"
      },
      "execution_count": null,
      "outputs": []
    },
    {
      "cell_type": "code",
      "source": [
        "print(x_train[0])"
      ],
      "metadata": {
        "colab": {
          "base_uri": "https://localhost:8080/"
        },
        "id": "yRbo4reM3X_s",
        "outputId": "0d98e588-0516-40d5-e3b3-576782adab2a"
      },
      "execution_count": null,
      "outputs": [
        {
          "output_type": "stream",
          "name": "stdout",
          "text": [
            "[0. 1. 1. ... 0. 0. 0.]\n"
          ]
        }
      ]
    },
    {
      "cell_type": "code",
      "source": [
        "y_train=np.asarray(train_labels).astype('float32')\n",
        "y_test=np.asarray(test_labels).astype('float32')"
      ],
      "metadata": {
        "id": "oUA0IoXP3u5Z"
      },
      "execution_count": null,
      "outputs": []
    },
    {
      "cell_type": "code",
      "source": [
        "from keras import models\n",
        "from keras import layers"
      ],
      "metadata": {
        "id": "VQFh4xWD32sx"
      },
      "execution_count": null,
      "outputs": []
    },
    {
      "cell_type": "code",
      "source": [
        "model = models.Sequential()\n",
        "model.add(layers.Dense(16, activation='relu', input_shape = (10000,)))\n",
        "model.add(layers.Dense(16,activation = 'relu'))\n",
        "model.add(layers.Dense(1, activation = 'sigmoid'))"
      ],
      "metadata": {
        "id": "Gdz3gPcv4jJp"
      },
      "execution_count": null,
      "outputs": []
    },
    {
      "cell_type": "code",
      "source": [
        "model.compile(optimizer='rmsprop', loss = 'binary_crossentropy', metrics=['accuracy'])"
      ],
      "metadata": {
        "id": "thZZzZYl44hI"
      },
      "execution_count": null,
      "outputs": []
    },
    {
      "cell_type": "markdown",
      "source": [
        "• 훈련 검증(10000개의 샘플을 떼어 검증세트를 만든다)"
      ],
      "metadata": {
        "id": "MA7XMpPf5Q7h"
      }
    },
    {
      "cell_type": "code",
      "source": [
        "x_val = x_train[:10000]\n",
        "partial_x_train = x_train[10000:]\n",
        "y_val = y_train[:10000]\n",
        "partial_y_train = y_train[10000:]"
      ],
      "metadata": {
        "id": "hwEkhTv35A1Z"
      },
      "execution_count": null,
      "outputs": []
    },
    {
      "cell_type": "markdown",
      "source": [
        "- 모델을 512개의 샘플씩 미니 배치를 만들어 20번의 에포크 동안 훈련시킴\n",
        "(x_train과 y_train 텐서에 있는 모든 샘플에 대해 20번 반복)\n",
        "- 동시에 따로 떼어놓은 1만개의 샘플에서 손실과 정확도를 측정\n"
      ],
      "metadata": {
        "id": "NrLiwloS50mP"
      }
    },
    {
      "cell_type": "code",
      "source": [
        "model.compile(optimizer='rmsprop', loss='binary_crossentropy', metrics=['acc'])\n",
        "history = model.fit(partial_x_train, partial_y_train, epochs=50, batch_size = 512, validation_data = (x_val, y_val))"
      ],
      "metadata": {
        "colab": {
          "base_uri": "https://localhost:8080/"
        },
        "id": "a3Pgl23X532q",
        "outputId": "f946afe7-8385-40b5-8aaf-5da5df9e7ec8"
      },
      "execution_count": null,
      "outputs": [
        {
          "output_type": "stream",
          "name": "stdout",
          "text": [
            "Epoch 1/50\n",
            "30/30 [==============================] - 2s 50ms/step - loss: 0.5347 - acc: 0.7739 - val_loss: 0.4050 - val_acc: 0.8712\n",
            "Epoch 2/50\n",
            "30/30 [==============================] - 1s 36ms/step - loss: 0.3277 - acc: 0.8962 - val_loss: 0.3179 - val_acc: 0.8873\n",
            "Epoch 3/50\n",
            "30/30 [==============================] - 1s 35ms/step - loss: 0.2384 - acc: 0.9233 - val_loss: 0.2924 - val_acc: 0.8860\n",
            "Epoch 4/50\n",
            "30/30 [==============================] - 1s 35ms/step - loss: 0.1880 - acc: 0.9389 - val_loss: 0.2730 - val_acc: 0.8936\n",
            "Epoch 5/50\n",
            "30/30 [==============================] - 1s 38ms/step - loss: 0.1507 - acc: 0.9524 - val_loss: 0.2984 - val_acc: 0.8802\n",
            "Epoch 6/50\n",
            "30/30 [==============================] - 1s 35ms/step - loss: 0.1268 - acc: 0.9600 - val_loss: 0.2931 - val_acc: 0.8866\n",
            "Epoch 7/50\n",
            "30/30 [==============================] - 1s 40ms/step - loss: 0.1043 - acc: 0.9694 - val_loss: 0.3012 - val_acc: 0.8835\n",
            "Epoch 8/50\n",
            "30/30 [==============================] - 1s 39ms/step - loss: 0.0882 - acc: 0.9746 - val_loss: 0.3394 - val_acc: 0.8801\n",
            "Epoch 9/50\n",
            "30/30 [==============================] - 1s 35ms/step - loss: 0.0753 - acc: 0.9783 - val_loss: 0.3431 - val_acc: 0.8769\n",
            "Epoch 10/50\n",
            "30/30 [==============================] - 1s 43ms/step - loss: 0.0603 - acc: 0.9848 - val_loss: 0.3619 - val_acc: 0.8782\n",
            "Epoch 11/50\n",
            "30/30 [==============================] - 1s 46ms/step - loss: 0.0511 - acc: 0.9887 - val_loss: 0.3873 - val_acc: 0.8772\n",
            "Epoch 12/50\n",
            "30/30 [==============================] - 1s 40ms/step - loss: 0.0440 - acc: 0.9895 - val_loss: 0.4112 - val_acc: 0.8762\n",
            "Epoch 13/50\n",
            "30/30 [==============================] - 1s 35ms/step - loss: 0.0349 - acc: 0.9933 - val_loss: 0.4387 - val_acc: 0.8733\n",
            "Epoch 14/50\n",
            "30/30 [==============================] - 1s 34ms/step - loss: 0.0280 - acc: 0.9949 - val_loss: 0.4709 - val_acc: 0.8709\n",
            "Epoch 15/50\n",
            "30/30 [==============================] - 1s 35ms/step - loss: 0.0234 - acc: 0.9959 - val_loss: 0.5304 - val_acc: 0.8642\n",
            "Epoch 16/50\n",
            "30/30 [==============================] - 1s 35ms/step - loss: 0.0186 - acc: 0.9973 - val_loss: 0.5348 - val_acc: 0.8698\n",
            "Epoch 17/50\n",
            "30/30 [==============================] - 1s 42ms/step - loss: 0.0154 - acc: 0.9982 - val_loss: 0.5610 - val_acc: 0.8684\n",
            "Epoch 18/50\n",
            "30/30 [==============================] - 1s 45ms/step - loss: 0.0134 - acc: 0.9979 - val_loss: 0.5925 - val_acc: 0.8675\n",
            "Epoch 19/50\n",
            "30/30 [==============================] - 1s 36ms/step - loss: 0.0102 - acc: 0.9987 - val_loss: 0.6525 - val_acc: 0.8629\n",
            "Epoch 20/50\n",
            "30/30 [==============================] - 1s 35ms/step - loss: 0.0064 - acc: 0.9997 - val_loss: 0.6542 - val_acc: 0.8656\n",
            "Epoch 21/50\n",
            "30/30 [==============================] - 1s 35ms/step - loss: 0.0087 - acc: 0.9984 - val_loss: 0.6990 - val_acc: 0.8645\n",
            "Epoch 22/50\n",
            "30/30 [==============================] - 1s 34ms/step - loss: 0.0035 - acc: 0.9999 - val_loss: 0.7218 - val_acc: 0.8645\n",
            "Epoch 23/50\n",
            "30/30 [==============================] - 1s 34ms/step - loss: 0.0041 - acc: 0.9996 - val_loss: 0.7603 - val_acc: 0.8642\n",
            "Epoch 24/50\n",
            "30/30 [==============================] - 1s 35ms/step - loss: 0.0049 - acc: 0.9989 - val_loss: 0.7887 - val_acc: 0.8638\n",
            "Epoch 25/50\n",
            "30/30 [==============================] - 1s 35ms/step - loss: 0.0018 - acc: 0.9999 - val_loss: 0.8152 - val_acc: 0.8637\n",
            "Epoch 26/50\n",
            "30/30 [==============================] - 1s 35ms/step - loss: 0.0028 - acc: 0.9997 - val_loss: 0.8452 - val_acc: 0.8643\n",
            "Epoch 27/50\n",
            "30/30 [==============================] - 1s 35ms/step - loss: 0.0012 - acc: 0.9999 - val_loss: 0.8986 - val_acc: 0.8582\n",
            "Epoch 28/50\n",
            "30/30 [==============================] - 1s 35ms/step - loss: 0.0030 - acc: 0.9992 - val_loss: 0.9180 - val_acc: 0.8622\n",
            "Epoch 29/50\n",
            "30/30 [==============================] - 1s 34ms/step - loss: 6.7299e-04 - acc: 1.0000 - val_loss: 0.9417 - val_acc: 0.8620\n",
            "Epoch 30/50\n",
            "30/30 [==============================] - 1s 36ms/step - loss: 9.4237e-04 - acc: 0.9999 - val_loss: 1.0034 - val_acc: 0.8572\n",
            "Epoch 31/50\n",
            "30/30 [==============================] - 1s 35ms/step - loss: 4.5388e-04 - acc: 1.0000 - val_loss: 1.0092 - val_acc: 0.8609\n",
            "Epoch 32/50\n",
            "30/30 [==============================] - 1s 38ms/step - loss: 0.0014 - acc: 0.9997 - val_loss: 1.0531 - val_acc: 0.8615\n",
            "Epoch 33/50\n",
            "30/30 [==============================] - 1s 34ms/step - loss: 2.7683e-04 - acc: 1.0000 - val_loss: 1.0676 - val_acc: 0.8594\n",
            "Epoch 34/50\n",
            "30/30 [==============================] - 1s 41ms/step - loss: 2.2478e-04 - acc: 1.0000 - val_loss: 1.0944 - val_acc: 0.8591\n",
            "Epoch 35/50\n",
            "30/30 [==============================] - 1s 37ms/step - loss: 0.0013 - acc: 0.9997 - val_loss: 1.1334 - val_acc: 0.8606\n",
            "Epoch 36/50\n",
            "30/30 [==============================] - 1s 43ms/step - loss: 1.4074e-04 - acc: 1.0000 - val_loss: 1.1480 - val_acc: 0.8601\n",
            "Epoch 37/50\n",
            "30/30 [==============================] - 1s 36ms/step - loss: 1.2092e-04 - acc: 1.0000 - val_loss: 1.1770 - val_acc: 0.8593\n",
            "Epoch 38/50\n",
            "30/30 [==============================] - 1s 38ms/step - loss: 4.7970e-04 - acc: 0.9999 - val_loss: 1.2985 - val_acc: 0.8531\n",
            "Epoch 39/50\n",
            "30/30 [==============================] - 1s 42ms/step - loss: 9.8078e-05 - acc: 1.0000 - val_loss: 1.2521 - val_acc: 0.8574\n",
            "Epoch 40/50\n",
            "30/30 [==============================] - 1s 36ms/step - loss: 6.4980e-05 - acc: 1.0000 - val_loss: 1.2706 - val_acc: 0.8575\n",
            "Epoch 41/50\n",
            "30/30 [==============================] - 1s 35ms/step - loss: 5.4614e-05 - acc: 1.0000 - val_loss: 1.3048 - val_acc: 0.8577\n",
            "Epoch 42/50\n",
            "30/30 [==============================] - 1s 34ms/step - loss: 7.4296e-04 - acc: 0.9997 - val_loss: 1.3479 - val_acc: 0.8579\n",
            "Epoch 43/50\n",
            "30/30 [==============================] - 1s 35ms/step - loss: 3.6076e-05 - acc: 1.0000 - val_loss: 1.3570 - val_acc: 0.8566\n",
            "Epoch 44/50\n",
            "30/30 [==============================] - 1s 35ms/step - loss: 3.0077e-05 - acc: 1.0000 - val_loss: 1.3724 - val_acc: 0.8564\n",
            "Epoch 45/50\n",
            "30/30 [==============================] - 1s 38ms/step - loss: 2.5190e-05 - acc: 1.0000 - val_loss: 1.4059 - val_acc: 0.8579\n",
            "Epoch 46/50\n",
            "30/30 [==============================] - 1s 34ms/step - loss: 1.2261e-04 - acc: 1.0000 - val_loss: 1.4952 - val_acc: 0.8546\n",
            "Epoch 47/50\n",
            "30/30 [==============================] - 1s 42ms/step - loss: 1.5550e-05 - acc: 1.0000 - val_loss: 1.4926 - val_acc: 0.8569\n",
            "Epoch 48/50\n",
            "30/30 [==============================] - 1s 35ms/step - loss: 1.1594e-05 - acc: 1.0000 - val_loss: 1.5063 - val_acc: 0.8572\n",
            "Epoch 49/50\n",
            "30/30 [==============================] - 1s 36ms/step - loss: 9.8908e-06 - acc: 1.0000 - val_loss: 1.5490 - val_acc: 0.8565\n",
            "Epoch 50/50\n",
            "30/30 [==============================] - 1s 34ms/step - loss: 5.0324e-04 - acc: 0.9997 - val_loss: 1.5887 - val_acc: 0.8563\n"
          ]
        }
      ]
    },
    {
      "cell_type": "markdown",
      "source": [
        "model.fit() 메서드는 History 객체를 반환 → 훈련하는 동안 발생한 모든 정보\n",
        "를 담고 있는 딕셔너리인 history 속성을 가지고 있음"
      ],
      "metadata": {
        "id": "YiJE7FAO62lI"
      }
    },
    {
      "cell_type": "code",
      "source": [
        "history_dict = history.history\n",
        "history_dict.keys()"
      ],
      "metadata": {
        "colab": {
          "base_uri": "https://localhost:8080/"
        },
        "id": "m37kTVmB63kU",
        "outputId": "f832666b-ef4d-406c-9ade-34584253ae1b"
      },
      "execution_count": null,
      "outputs": [
        {
          "output_type": "execute_result",
          "data": {
            "text/plain": [
              "dict_keys(['loss', 'acc', 'val_loss', 'val_acc'])"
            ]
          },
          "metadata": {},
          "execution_count": 19
        }
      ]
    },
    {
      "cell_type": "code",
      "source": [
        "import matplotlib.pyplot as plt"
      ],
      "metadata": {
        "id": "2VPfhzHw7AQr"
      },
      "execution_count": null,
      "outputs": []
    },
    {
      "cell_type": "code",
      "source": [
        "history_dict = history.history\n",
        "loss = history_dict['loss']\n",
        "val_loss = history_dict['val_loss']\n",
        "\n",
        "epochs = range(1, len(loss) + 1)\n",
        "\n",
        "plt.figure(figsize = (8, 5))\n",
        "plt.plot(epochs, loss, 'bo', label='Training loss')\n",
        "plt.plot(epochs, val_loss, 'b', label='validation loss')\n",
        "plt.title('Training and validation loss')\n",
        "plt.xlabel('Epochs')\n",
        "plt.ylabel('loss')\n",
        "plt.legend()\n",
        "plt.show()\n"
      ],
      "metadata": {
        "colab": {
          "base_uri": "https://localhost:8080/",
          "height": 350
        },
        "id": "gApbVUy97M1q",
        "outputId": "dd87a14f-6529-44cb-ce7f-573709d1ae1c"
      },
      "execution_count": null,
      "outputs": [
        {
          "output_type": "display_data",
          "data": {
            "image/png": "[encoded data removed]",
            "text/plain": [
              "<Figure size 576x360 with 1 Axes>"
            ]
          },
          "metadata": {
            "needs_background": "light"
          }
        }
      ]
    },
    {
      "cell_type": "code",
      "source": [
        "plt.clf()\n",
        "acc = history_dict['acc']\n",
        "val_acc = history_dict['val_acc']\n",
        "\n",
        "plt.figure(figsize = (8, 5))\n",
        "plt.plot(epochs, acc, 'bo', label='Training acc')\n",
        "plt.plot(epochs, val_acc, 'b', label='validation acc')\n",
        "plt.title('Training and validation accuracy')\n",
        "plt.xlabel('Epochs')\n",
        "plt.ylabel('Accuracy')\n",
        "plt.legend()\n",
        "plt.show()"
      ],
      "metadata": {
        "colab": {
          "base_uri": "https://localhost:8080/",
          "height": 368
        },
        "id": "HMvsCLIe7yJi",
        "outputId": "e197b34e-9ee1-4894-e1c3-e810022dc53f"
      },
      "execution_count": null,
      "outputs": [
        {
          "output_type": "display_data",
          "data": {
            "text/plain": [
              "<Figure size 432x288 with 0 Axes>"
            ]
          },
          "metadata": {}
        },
        {
          "output_type": "display_data",
          "data": {
            "image/png": "[encoded data removed]",
            "text/plain": [
              "<Figure size 576x360 with 1 Axes>"
            ]
          },
          "metadata": {
            "needs_background": "light"
          }
        }
      ]
    },
    {
      "cell_type": "markdown",
      "source": [
        "• 과대적합을 방지하기 위해 세번째 에포크 이후에 훈련을 중지할 수 있음"
      ],
      "metadata": {
        "id": "HrlT6mHG8li_"
      }
    },
    {
      "cell_type": "code",
      "source": [
        "model = models.Sequential()\n",
        "model.add(layers.Dense(16, activation='relu', input_shape = (10000,)))\n",
        "model.add(layers.Dense(16,activation = 'relu'))\n",
        "model.add(layers.Dense(1, activation = 'sigmoid'))\n",
        "\n",
        "model.compile(optimizer='rmsprop', loss = 'binary_crossentropy', metrics = ['acc'])\n",
        "model.fit(x_train, y_train, epochs=4, batch_size=512)\n",
        "results = model.evaluate(x_test, y_test)\n",
        "print(results)"
      ],
      "metadata": {
        "colab": {
          "base_uri": "https://localhost:8080/"
        },
        "id": "xcMrKLWP8bMe",
        "outputId": "26b3810a-f8c7-43c9-ae04-2f6e3caa6190"
      },
      "execution_count": null,
      "outputs": [
        {
          "output_type": "stream",
          "name": "stdout",
          "text": [
            "Epoch 1/4\n",
            "49/49 [==============================] - 2s 30ms/step - loss: 0.4445 - acc: 0.8253\n",
            "Epoch 2/4\n",
            "49/49 [==============================] - 1s 30ms/step - loss: 0.2553 - acc: 0.9103\n",
            "Epoch 3/4\n",
            "49/49 [==============================] - 1s 30ms/step - loss: 0.1971 - acc: 0.9307\n",
            "Epoch 4/4\n",
            "49/49 [==============================] - 2s 31ms/step - loss: 0.1666 - acc: 0.9420\n",
            "782/782 [==============================] - 2s 2ms/step - loss: 0.3232 - acc: 0.8717\n",
            "[0.3232018053531647, 0.871720016002655]\n"
          ]
        }
      ]
    },
    {
      "cell_type": "markdown",
      "source": [
        "• 훈련된 모델로 새로운 데이터에 대해 예측"
      ],
      "metadata": {
        "id": "e194fzi09dsH"
      }
    },
    {
      "cell_type": "code",
      "source": [
        "predictions = model.predict(x_test)\n",
        "predictions"
      ],
      "metadata": {
        "colab": {
          "base_uri": "https://localhost:8080/"
        },
        "id": "tZUCNDQi9Q7E",
        "outputId": "5bd9a1fa-70ff-47ff-d221-a074fdf0f645"
      },
      "execution_count": null,
      "outputs": [
        {
          "output_type": "execute_result",
          "data": {
            "text/plain": [
              "array([[0.2789945 ],\n",
              "       [0.99952984],\n",
              "       [0.965363  ],\n",
              "       ...,\n",
              "       [0.18218592],\n",
              "       [0.10335195],\n",
              "       [0.7646762 ]], dtype=float32)"
            ]
          },
          "metadata": {},
          "execution_count": 31
        }
      ]
    },
    {
      "cell_type": "code",
      "source": [
        "np.argmax(predictions[0])"
      ],
      "metadata": {
        "colab": {
          "base_uri": "https://localhost:8080/"
        },
        "id": "qhqyYY3I_auj",
        "outputId": "e5b9d43f-fc2c-4121-84e3-9798bd7f203b"
      },
      "execution_count": null,
      "outputs": [
        {
          "output_type": "execute_result",
          "data": {
            "text/plain": [
              "0"
            ]
          },
          "metadata": {},
          "execution_count": 30
        }
      ]
    },
    {
      "cell_type": "code",
      "source": [
        "test_labels[0]"
      ],
      "metadata": {
        "colab": {
          "base_uri": "https://localhost:8080/"
        },
        "id": "SfKW-zpB_qT9",
        "outputId": "e7c9e1ed-8396-4cad-e7fa-5af8be06055d"
      },
      "execution_count": null,
      "outputs": [
        {
          "output_type": "execute_result",
          "data": {
            "text/plain": [
              "0"
            ]
          },
          "metadata": {},
          "execution_count": 32
        }
      ]
    }
  ]
}